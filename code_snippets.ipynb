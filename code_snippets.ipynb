{
 "cells": [
  {
   "cell_type": "markdown",
   "id": "fb3a6791",
   "metadata": {},
   "source": [
    "### For creating points from Latitude and Longitude"
   ]
  },
  {
   "cell_type": "code",
   "execution_count": null,
   "id": "0d3d27ac",
   "metadata": {},
   "outputs": [],
   "source": [
    "locations = df[['lat', 'lon']]\n",
    "locationlist = locations.values.tolist()\n",
    "len(locationlist)\n",
    "locationlist[7]\n",
    "# Output: [35.69798843112353, 139.6550454876133]"
   ]
  },
  {
   "cell_type": "markdown",
   "id": "22435054",
   "metadata": {},
   "source": [
    "### For Creating Trajectories with Folium"
   ]
  },
  {
   "cell_type": "code",
   "execution_count": null,
   "id": "16dd9a0c",
   "metadata": {},
   "outputs": [],
   "source": [
    "import folium\n",
    "\n",
    "m = folium.Map(location=[34.95, 137.16],\n",
    "              zoom_start=15)\n",
    "\n",
    "loc = locationlist\n",
    "\n",
    "folium.PolyLine(loc,\n",
    "                color='red',\n",
    "                weight=1,\n",
    "                opacity=0.8).add_to(m)\n",
    "m"
   ]
  },
  {
   "cell_type": "code",
   "execution_count": null,
   "id": "da51a6c6",
   "metadata": {},
   "outputs": [],
   "source": []
  }
 ],
 "metadata": {
  "kernelspec": {
   "display_name": "Python 3",
   "language": "python",
   "name": "python3"
  },
  "language_info": {
   "codemirror_mode": {
    "name": "ipython",
    "version": 3
   },
   "file_extension": ".py",
   "mimetype": "text/x-python",
   "name": "python",
   "nbconvert_exporter": "python",
   "pygments_lexer": "ipython3",
   "version": "3.7.10"
  }
 },
 "nbformat": 4,
 "nbformat_minor": 5
}
