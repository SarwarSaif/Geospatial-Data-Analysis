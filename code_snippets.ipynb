{
 "cells": [
  {
   "cell_type": "markdown",
   "id": "c89c6b48",
   "metadata": {},
   "source": [
    "### For creating points from Latitude and Longitude"
   ]
  },
  {
   "cell_type": "code",
   "execution_count": null,
   "id": "dae3ef40",
   "metadata": {},
   "outputs": [],
   "source": [
    "locations = df[['lat', 'lon']]\n",
    "locationlist = locations.values.tolist()\n",
    "len(locationlist)\n",
    "locationlist[7]\n",
    "# Output: [35.69798843112353, 139.6550454876133]"
   ]
  },
  {
   "cell_type": "markdown",
   "id": "22fc41b5",
   "metadata": {},
   "source": [
    "### For Creating Trajectories with Folium"
   ]
  },
  {
   "cell_type": "code",
   "execution_count": null,
   "id": "4a5b2780",
   "metadata": {},
   "outputs": [],
   "source": [
    "import folium\n",
    "\n",
    "m = folium.Map(location=[34.95, 137.16],\n",
    "              zoom_start=15)\n",
    "\n",
    "loc = locationlist\n",
    "\n",
    "folium.PolyLine(loc,\n",
    "                color='red',\n",
    "                weight=1,\n",
    "                opacity=0.8).add_to(m)\n",
    "m"
   ]
  },
  {
   "cell_type": "markdown",
   "id": "bc34ad0f",
   "metadata": {},
   "source": [
    "### Plot Trajectories over time\n",
    "\n",
    "Steps:\n",
    "1. Create Lines for each recurring connections\n",
    "2. Create Features for each line\n",
    "3. Plot the features using Folium"
   ]
  },
  {
   "cell_type": "markdown",
   "id": "2e547206",
   "metadata": {},
   "source": [
    "#### 1. Create Lines List"
   ]
  },
  {
   "cell_type": "code",
   "execution_count": null,
   "id": "dd78dfa1",
   "metadata": {},
   "outputs": [],
   "source": [
    "# To append all lines\n",
    "line_list = []\n",
    "# Get the starting timestamp\n",
    "prev_con = max_ssid_df.loc[0, 'connecting_at_jst']\n",
    "# Start from the second connection and loop until the last connection\n",
    "for current_con in max_ssid_df[1:].connecting_at_jst:\n",
    "    line_dict = {\n",
    "        # Get list of all coordinates\n",
    "        \"coordinates\": [\n",
    "            [max_ssid_df[max_ssid_df.connecting_at_jst==prev_con].reset_index().at[0, 'lon'], max_ssid_df[max_ssid_df.connecting_at_jst==prev_con].reset_index().at[0, 'lat']],\n",
    "            [max_ssid_df[max_ssid_df.connecting_at_jst==current_con].reset_index().at[0, 'lon'], max_ssid_df[max_ssid_df.connecting_at_jst==current_con].reset_index().at[0, 'lat']],\n",
    "        ],\n",
    "        \"dates\": [prev_con.strftime('%Y-%m-%d %H:%M:%S'), current_con.strftime('%Y-%m-%d %H:%M:%S')],\n",
    "        \"color\": date_color_map[max_ssid_df[max_ssid_df.connecting_at_jst==prev_con].reset_index().at[0, 'date']],\n",
    "    }\n",
    "    line_list.append(line_dict)\n",
    "    # Set previous time as current time for next iteration\n",
    "    prev_con=current_con\n",
    "print(line_list)"
   ]
  },
  {
   "cell_type": "markdown",
   "id": "2a17f08d",
   "metadata": {},
   "source": [
    "#### 2. Initialize Features"
   ]
  },
  {
   "cell_type": "code",
   "execution_count": null,
   "id": "e69f2d8e",
   "metadata": {},
   "outputs": [],
   "source": [
    "# Create features\n",
    "features = [\n",
    "    {\n",
    "        \"type\": \"Feature\",\n",
    "        \"geometry\": {\n",
    "            \"type\": \"LineString\",\n",
    "            \"coordinates\": line[\"coordinates\"],\n",
    "        },\n",
    "        \"properties\": {  \n",
    "            \"times\": line[\"dates\"],\n",
    "            \"style\": {\n",
    "                \"color\": line[\"color\"],\n",
    "                \"weight\": line[\"weight\"] if \"weight\" in line else 5,\n",
    "            },\n",
    "        },\n",
    "    }\n",
    "    for line in line_list\n",
    "]"
   ]
  },
  {
   "cell_type": "markdown",
   "id": "70f85e25",
   "metadata": {},
   "source": [
    "#### 3. Plot Trajectories using Folium"
   ]
  },
  {
   "cell_type": "code",
   "execution_count": null,
   "id": "4fcee512",
   "metadata": {},
   "outputs": [],
   "source": [
    "import folium\n",
    "from branca.element import Figure\n",
    "from folium.plugins import TimestampedGeoJson\n",
    "fig=Figure(width=850,height=550)\n",
    "m=folium.Map(location=[34.95, 137.16],zoom_start=13)\n",
    "\n",
    "\n",
    "TimestampedGeoJson(\n",
    "    {\n",
    "        \"type\": \"FeatureCollection\",\n",
    "        \"features\": features,\n",
    "    },\n",
    "    period=\"PT1M\",\n",
    "    add_last_point=False,\n",
    ").add_to(m)\n",
    "folium.TileLayer('Stamen Terrain').add_to(m)\n",
    "folium.TileLayer('Stamen Toner').add_to(m)\n",
    "folium.TileLayer('Stamen Water Color').add_to(m)\n",
    "folium.TileLayer('cartodbpositron').add_to(m)\n",
    "folium.TileLayer('cartodbdark_matter').add_to(m)\n",
    "folium.LayerControl().add_to(m)\n",
    "m.save(f\"{OUT_PATH}eda/movement/ssid/user_id_{''.join(max_user_id.split('/'))}_nationwide_movement_trajectory_every_second.html\")\n",
    "#mdate"
   ]
  },
  {
   "cell_type": "markdown",
   "id": "941e0f8d",
   "metadata": {},
   "source": [
    "### Plot Trajectories By Date"
   ]
  },
  {
   "cell_type": "code",
   "execution_count": null,
   "id": "209cd0e1",
   "metadata": {},
   "outputs": [],
   "source": [
    "import folium\n",
    "from branca.element import Figure\n",
    "from folium.plugins import TimestampedGeoJson\n",
    "\n",
    "def create_reccurring_connections(temp_df):\n",
    "    # To append all lines\n",
    "    line_list = []\n",
    "    # Get the starting timestamp\n",
    "    prev_con = temp_df.loc[0, 'connecting_at_jst']\n",
    "    # Start from the second connection and loop until the last connection\n",
    "    for current_con in temp_df[1:].connecting_at_jst:\n",
    "        line_dict = {\n",
    "            # Get list of all coordinates\n",
    "            \"coordinates\": [\n",
    "                [temp_df[temp_df.connecting_at_jst==prev_con].reset_index().at[0, 'lon'], temp_df[temp_df.connecting_at_jst==prev_con].reset_index().at[0, 'lat']],\n",
    "                [temp_df[temp_df.connecting_at_jst==current_con].reset_index().at[0, 'lon'], temp_df[temp_df.connecting_at_jst==current_con].reset_index().at[0, 'lat']],\n",
    "            ],\n",
    "            \"dates\": [prev_con.strftime('%Y-%m-%d %H:%M:%S'), current_con.strftime('%Y-%m-%d %H:%M:%S')],\n",
    "            \"color\": date_color_map[temp_df[temp_df.connecting_at_jst==prev_con].reset_index().at[0, 'date']],\n",
    "        }\n",
    "        line_list.append(line_dict)\n",
    "        # Set previous time as current time for next iteration\n",
    "        prev_con=current_con\n",
    "        \n",
    "    return line_list\n",
    "\n",
    "def create_features_from_line_list(line_list):\n",
    "    features = [\n",
    "        {\n",
    "            \"type\": \"Feature\",\n",
    "            \"geometry\": {\n",
    "                \"type\": \"LineString\",\n",
    "                \"coordinates\": line[\"coordinates\"],\n",
    "            },\n",
    "            \"properties\": {\n",
    "                \"times\": line[\"dates\"],\n",
    "                \"style\": {\n",
    "                    \"color\": line[\"color\"],\n",
    "                    \"weight\": line[\"weight\"] if \"weight\" in line else 5,\n",
    "                },\n",
    "            },\n",
    "        }\n",
    "        for line in line_list\n",
    "    ]\n",
    "    \n",
    "    return features\n",
    "\n",
    "def create_map(features):\n",
    "    \n",
    "    fig=Figure(width=850,height=550)\n",
    "    # Initialize the Map\n",
    "    m=folium.Map(location=[34.95, 137.16],zoom_start=13)\n",
    "    # Create subgroup\n",
    "    #g1 = folium.plugins.FeatureGroupSubGroup(m, str(date))\n",
    "    TimestampedGeoJson(\n",
    "        {\n",
    "            \"type\": \"FeatureCollection\",\n",
    "            \"features\": features,\n",
    "        },\n",
    "        period=\"PT1M\",\n",
    "        add_last_point=False,\n",
    "    ).add_to(m)\n",
    "    folium.TileLayer('Stamen Terrain').add_to(m)\n",
    "    folium.TileLayer('Stamen Toner').add_to(m)\n",
    "    folium.TileLayer('Stamen Water Color').add_to(m)\n",
    "    folium.TileLayer('cartodbpositron').add_to(m)\n",
    "    folium.TileLayer('cartodbdark_matter').add_to(m)\n",
    "    folium.LayerControl().add_to(m)\n",
    "    \n",
    "    return m\n",
    "\n",
    "\n",
    "# Add starting date\n",
    "start_date=max_ssid_df.date.sort_values().unique()[0]\n",
    "# Iterate over all dates\n",
    "for date in max_ssid_df.date.sort_values().unique():\n",
    "    \n",
    "    temp_df = max_ssid_df[max_ssid_df.date==date].copy()\n",
    "    \n",
    "    # If it's not first date then reset the index\n",
    "    if date != start_date:\n",
    "        temp_df = temp_df.reset_index(drop=True)\n",
    "    # Sort dataframe by Connection time\n",
    "    temp_df = temp_df.sort_values(by='connecting_at_jst', ascending=True)\n",
    "    print(temp_df.shape)\n",
    "    \n",
    "    temp_df.to_csv(f\"{OUT_PATH}eda/movement/ssid/user_id_{max_user_id}_all_{date}_nationwide_movement_df.csv\", index=False)\n",
    "    \n",
    "    \n",
    "    line_list = create_reccurring_connections(temp_df)\n",
    "    print(len(line_list))\n",
    "    \n",
    "    features = create_features_from_line_list(line_list)\n",
    "    print(len(features))\n",
    "    \n",
    "    map_obj = create_map(features)\n",
    "    #break\n",
    "    map_obj.save(f\"{OUT_PATH}eda/movement/ssid/user_id_{max_user_id}_all_{date}_nationwide_movement_trajectory_every_second.html\")\n",
    "    #m"
   ]
  },
  {
   "cell_type": "code",
   "execution_count": null,
   "id": "5f144c77",
   "metadata": {},
   "outputs": [],
   "source": []
  }
 ],
 "metadata": {
  "kernelspec": {
   "display_name": "Python 3",
   "language": "python",
   "name": "python3"
  },
  "language_info": {
   "codemirror_mode": {
    "name": "ipython",
    "version": 3
   },
   "file_extension": ".py",
   "mimetype": "text/x-python",
   "name": "python",
   "nbconvert_exporter": "python",
   "pygments_lexer": "ipython3",
   "version": "3.7.10"
  }
 },
 "nbformat": 4,
 "nbformat_minor": 5
}
